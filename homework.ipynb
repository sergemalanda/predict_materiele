{
 "cells": [
  {
   "cell_type": "code",
   "execution_count": 25,
   "id": "720b6276",
   "metadata": {},
   "outputs": [],
   "source": [
    "\n",
    "import pandas as pd\n",
    "from sklearn.model_selection import train_test_split\n",
    "from sklearn.linear_model import LinearRegression\n",
    "import joblib"
   ]
  },
  {
   "cell_type": "code",
   "execution_count": 26,
   "id": "0884266c",
   "metadata": {},
   "outputs": [
    {
     "name": "stdout",
     "output_type": "stream",
     "text": [
      "    nbre_bijoux  nbre_soulier  nbre_pantalon  nbre_montre  nbre_chapeau  \\\n",
      "0            20            40             57          100            60   \n",
      "1            30            15             30           70            80   \n",
      "2            90            45             56           78            90   \n",
      "3            23             6             56           33             4   \n",
      "4            78             8             58            5            33   \n",
      "5            90            87             33            7            55   \n",
      "6            67            45             32            6            34   \n",
      "7            65            23             29            5            76   \n",
      "8            29            55              8           10            12   \n",
      "9            43            21              2           14            11   \n",
      "10           67            78              5           18            25   \n",
      "11           68            11              1           17             8   \n",
      "12           10            12              7           23            13   \n",
      "13            6            26              3            2            16   \n",
      "14            8            50              9           64            15   \n",
      "15           11            13             35           23             9   \n",
      "16           15            46             77           12            21   \n",
      "17            5            22             22           34            17   \n",
      "18            4            89              5           19            34   \n",
      "\n",
      "    nbre_chemise  nbre_lacoste  nbre_robe  nbre_chainette  prix  \n",
      "0             80            90         45              80  4000  \n",
      "1             78           134         45              24  6000  \n",
      "2             34            55         67              54  5400  \n",
      "3              1            17         33              49  7000  \n",
      "4              2            18         34              50  8000  \n",
      "5              3            19         35              51  5600  \n",
      "6              4            20         36              52  6500  \n",
      "7              5            21         37              53  7500  \n",
      "8              6            22         38              54  4500  \n",
      "9              7            23         39              55  8500  \n",
      "10             8            24         40              56  9000  \n",
      "11             9            25         41              57  2345  \n",
      "12            10            26         42              58  4566  \n",
      "13            11            27         43              59  5678  \n",
      "14            12            28         44              60  3456  \n",
      "15            13            29         45              61  7645  \n",
      "16            14            30         46              62  4978  \n",
      "17            15            31         47              63  4567  \n",
      "18            16            32         48              64  8000  \n"
     ]
    }
   ],
   "source": [
    "#charger le dataset \n",
    "dataset=pd.read_excel('Magasin1_habit.xlsx')\n",
    "print(dataset)"
   ]
  },
  {
   "cell_type": "code",
   "execution_count": 28,
   "id": "f60e2a9e",
   "metadata": {},
   "outputs": [
    {
     "name": "stdout",
     "output_type": "stream",
     "text": [
      "    nbre_bijoux  nbre_soulier  nbre_pantalon  nbre_montre  nbre_chapeau  \\\n",
      "14            8            50              9           64            15   \n",
      "16           15            46             77           12            21   \n",
      "6            67            45             32            6            34   \n",
      "4            78             8             58            5            33   \n",
      "2            90            45             56           78            90   \n",
      "5            90            87             33            7            55   \n",
      "13            6            26              3            2            16   \n",
      "9            43            21              2           14            11   \n",
      "7            65            23             29            5            76   \n",
      "17            5            22             22           34            17   \n",
      "11           68            11              1           17             8   \n",
      "3            23             6             56           33             4   \n",
      "0            20            40             57          100            60   \n",
      "15           11            13             35           23             9   \n",
      "12           10            12              7           23            13   \n",
      "\n",
      "    nbre_chemise  nbre_lacoste  nbre_robe  nbre_chainette  \n",
      "14            12            28         44              60  \n",
      "16            14            30         46              62  \n",
      "6              4            20         36              52  \n",
      "4              2            18         34              50  \n",
      "2             34            55         67              54  \n",
      "5              3            19         35              51  \n",
      "13            11            27         43              59  \n",
      "9              7            23         39              55  \n",
      "7              5            21         37              53  \n",
      "17            15            31         47              63  \n",
      "11             9            25         41              57  \n",
      "3              1            17         33              49  \n",
      "0             80            90         45              80  \n",
      "15            13            29         45              61  \n",
      "12            10            26         42              58  \n"
     ]
    }
   ],
   "source": [
    "X=dataset[['nbre_bijoux','nbre_soulier','nbre_pantalon','nbre_montre','nbre_chapeau','nbre_chemise','nbre_lacoste','nbre_robe','nbre_chainette']]\n",
    "y=dataset['prix']\n",
    "\n",
    "X_train,X_test,y_train,y_test=train_test_split(X,y,test_size=0.2,random_state=0)\n",
    "print(X_train)"
   ]
  },
  {
   "cell_type": "code",
   "execution_count": 29,
   "id": "8aaeec66",
   "metadata": {},
   "outputs": [],
   "source": [
    "redresseur=LinearRegression()"
   ]
  },
  {
   "cell_type": "code",
   "execution_count": 30,
   "id": "ad30d1c1",
   "metadata": {},
   "outputs": [
    {
     "data": {
      "text/plain": [
       "LinearRegression()"
      ]
     },
     "execution_count": 30,
     "metadata": {},
     "output_type": "execute_result"
    }
   ],
   "source": [
    "redresseur.fit(X_train,y_train)"
   ]
  },
  {
   "cell_type": "code",
   "execution_count": 31,
   "id": "81bb79ad",
   "metadata": {},
   "outputs": [],
   "source": [
    "y_pred=redresseur.predict(X_test)"
   ]
  },
  {
   "cell_type": "code",
   "execution_count": 32,
   "id": "0630a853",
   "metadata": {},
   "outputs": [
    {
     "data": {
      "text/html": [
       "<div>\n",
       "<style scoped>\n",
       "    .dataframe tbody tr th:only-of-type {\n",
       "        vertical-align: middle;\n",
       "    }\n",
       "\n",
       "    .dataframe tbody tr th {\n",
       "        vertical-align: top;\n",
       "    }\n",
       "\n",
       "    .dataframe thead th {\n",
       "        text-align: right;\n",
       "    }\n",
       "</style>\n",
       "<table border=\"1\" class=\"dataframe\">\n",
       "  <thead>\n",
       "    <tr style=\"text-align: right;\">\n",
       "      <th></th>\n",
       "      <th>notre actuelles valeurs</th>\n",
       "      <th>notre valeurs predites</th>\n",
       "    </tr>\n",
       "  </thead>\n",
       "  <tbody>\n",
       "    <tr>\n",
       "      <th>10</th>\n",
       "      <td>9000</td>\n",
       "      <td>3889.091233</td>\n",
       "    </tr>\n",
       "    <tr>\n",
       "      <th>1</th>\n",
       "      <td>6000</td>\n",
       "      <td>24413.269375</td>\n",
       "    </tr>\n",
       "    <tr>\n",
       "      <th>8</th>\n",
       "      <td>4500</td>\n",
       "      <td>6071.179177</td>\n",
       "    </tr>\n",
       "    <tr>\n",
       "      <th>18</th>\n",
       "      <td>8000</td>\n",
       "      <td>4011.068255</td>\n",
       "    </tr>\n",
       "  </tbody>\n",
       "</table>\n",
       "</div>"
      ],
      "text/plain": [
       "    notre actuelles valeurs  notre valeurs predites\n",
       "10                     9000             3889.091233\n",
       "1                      6000            24413.269375\n",
       "8                      4500             6071.179177\n",
       "18                     8000             4011.068255"
      ]
     },
     "execution_count": 32,
     "metadata": {},
     "output_type": "execute_result"
    }
   ],
   "source": [
    "df=pd.DataFrame({'notre actuelles valeurs':y_test,'notre valeurs predites':y_pred})\n",
    "df"
   ]
  },
  {
   "cell_type": "code",
   "execution_count": 34,
   "id": "5e03a2c6",
   "metadata": {},
   "outputs": [
    {
     "data": {
      "text/plain": [
       "['modele50.pk3']"
      ]
     },
     "execution_count": 34,
     "metadata": {},
     "output_type": "execute_result"
    }
   ],
   "source": [
    "joblib.dump(redresseur,'modele50.pk3')"
   ]
  },
  {
   "cell_type": "code",
   "execution_count": null,
   "id": "037c6840",
   "metadata": {},
   "outputs": [],
   "source": []
  }
 ],
 "metadata": {
  "kernelspec": {
   "display_name": "Python 3 (ipykernel)",
   "language": "python",
   "name": "python3"
  },
  "language_info": {
   "codemirror_mode": {
    "name": "ipython",
    "version": 3
   },
   "file_extension": ".py",
   "mimetype": "text/x-python",
   "name": "python",
   "nbconvert_exporter": "python",
   "pygments_lexer": "ipython3",
   "version": "3.9.7"
  }
 },
 "nbformat": 4,
 "nbformat_minor": 5
}
